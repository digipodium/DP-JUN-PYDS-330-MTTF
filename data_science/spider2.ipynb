{
 "cells": [
  {
   "cell_type": "code",
   "execution_count": 10,
   "metadata": {},
   "outputs": [],
   "source": [
    "from dputils import scrape as sc"
   ]
  },
  {
   "cell_type": "code",
   "execution_count": 17,
   "metadata": {},
   "outputs": [],
   "source": [
    "# settings to extract data\n",
    "# tag\n",
    "# attrs # should be dict\n",
    "# output = [text, href, src, object] # optional key\n",
    "target = {'tag':'div', 'attrs': {'class':'_1YokD2 _3Mn1Gg'}}\n",
    "items = {'tag':'div', 'attrs': {'class':'_1AtVbE col-12-12'}}\n",
    "\n",
    "title = {'tag':'div', 'attrs': {'class':'_4rR01T'}}\n",
    "price = {'tag':'div','attrs':{'class':'_30jeq3 _1_WHN1'}}\n",
    "rr = {'tag':'span','attrs':{'class':'_2_R_DZ'}}\n",
    "link = {'tag':'a', 'attrs':{'class':'_1fQZEK'}, 'output':'href'}\n",
    "img_link = {'tag':'img','attrs':{'class':'_396cs4 _3exPp9'}, 'output':'src'}\n",
    "details = {'tag':'ul','attrs':{'class':'_1xgFaf'}}\n"
   ]
  },
  {
   "cell_type": "code",
   "execution_count": 34,
   "metadata": {},
   "outputs": [
    {
     "name": "stdout",
     "output_type": "stream",
     "text": [
      "https://www.flipkart.com/search?q=laptop&page=1\n",
      "24 items found\n",
      "Item skipped at index: 22\n",
      "Item skipped at index: 23\n",
      "All items extracted\n",
      "https://www.flipkart.com/search?q=laptop&page=2\n",
      "26 items found\n",
      "Item skipped at index: 13\n",
      "Item skipped at index: 18\n",
      "Item skipped at index: 24\n",
      "Item skipped at index: 25\n",
      "All items extracted\n",
      "https://www.flipkart.com/search?q=laptop&page=3\n",
      "Could not find target section with this div and {'class': '_1YokD2 _3Mn1Gg'}\n",
      "'NoneType' object is not iterable\n",
      "https://www.flipkart.com/search?q=laptop&page=3\n",
      "26 items found\n",
      "Item skipped at index: 6\n",
      "Item skipped at index: 24\n",
      "Item skipped at index: 25\n",
      "All items extracted\n",
      "https://www.flipkart.com/search?q=laptop&page=4\n",
      "26 items found\n",
      "Item skipped at index: 24\n",
      "Item skipped at index: 25\n",
      "All items extracted\n",
      "https://www.flipkart.com/search?q=laptop&page=5\n",
      "26 items found\n",
      "Item skipped at index: 0\n",
      "Item skipped at index: 10\n",
      "Item skipped at index: 16\n",
      "Item skipped at index: 24\n",
      "Item skipped at index: 25\n",
      "All items extracted\n",
      "https://www.flipkart.com/search?q=laptop&page=6\n",
      "26 items found\n",
      "Item skipped at index: 1\n",
      "Item skipped at index: 4\n",
      "Item skipped at index: 10\n",
      "Item skipped at index: 24\n",
      "Item skipped at index: 25\n",
      "All items extracted\n",
      "https://www.flipkart.com/search?q=laptop&page=7\n",
      "26 items found\n",
      "Item skipped at index: 9\n",
      "Item skipped at index: 24\n",
      "Item skipped at index: 25\n",
      "All items extracted\n",
      "https://www.flipkart.com/search?q=laptop&page=8\n",
      "26 items found\n",
      "Item skipped at index: 8\n",
      "Item skipped at index: 11\n",
      "Item skipped at index: 13\n",
      "Item skipped at index: 17\n",
      "Item skipped at index: 24\n",
      "Item skipped at index: 25\n",
      "All items extracted\n",
      "https://www.flipkart.com/search?q=laptop&page=9\n",
      "26 items found\n",
      "Item skipped at index: 0\n",
      "Item skipped at index: 5\n",
      "Item skipped at index: 13\n",
      "Item skipped at index: 17\n",
      "Item skipped at index: 22\n",
      "Item skipped at index: 24\n",
      "Item skipped at index: 25\n",
      "All items extracted\n",
      "https://www.flipkart.com/search?q=laptop&page=10\n",
      "26 items found\n",
      "Item skipped at index: 10\n",
      "Item skipped at index: 12\n",
      "Item skipped at index: 13\n",
      "Item skipped at index: 19\n",
      "Item skipped at index: 24\n",
      "Item skipped at index: 25\n",
      "All items extracted\n"
     ]
    }
   ],
   "source": [
    "query = 'laptop'\n",
    "page = 1\n",
    "all_output = []\n",
    "page_limit = 10\n",
    "while True:\n",
    "    url = f\"https://www.flipkart.com/search?q={query}&page={page}\"\n",
    "    print(url)\n",
    "    soup = sc.get_webpage_data(url)\n",
    "    try:\n",
    "        output= sc.extract_many(soup,\n",
    "                target = target, items = items,\n",
    "                title = title, price = price,\n",
    "                rr = rr, link = link,\n",
    "                img_link = img_link, details = details)\n",
    "        all_output.extend(output)\n",
    "        page += 1\n",
    "    except Exception as e:\n",
    "        print(e)\n",
    "        continue\n",
    "    if page > page_limit:\n",
    "        break"
   ]
  },
  {
   "cell_type": "code",
   "execution_count": 36,
   "metadata": {},
   "outputs": [
    {
     "name": "stdout",
     "output_type": "stream",
     "text": [
      "215\n"
     ]
    }
   ],
   "source": [
    "from pprint import pprint\n",
    "pprint(len(all_output))"
   ]
  },
  {
   "cell_type": "code",
   "execution_count": null,
   "metadata": {},
   "outputs": [],
   "source": []
  }
 ],
 "metadata": {
  "kernelspec": {
   "display_name": "Python 3.9.13 ('base')",
   "language": "python",
   "name": "python3"
  },
  "language_info": {
   "codemirror_mode": {
    "name": "ipython",
    "version": 3
   },
   "file_extension": ".py",
   "mimetype": "text/x-python",
   "name": "python",
   "nbconvert_exporter": "python",
   "pygments_lexer": "ipython3",
   "version": "3.9.13"
  },
  "orig_nbformat": 4,
  "vscode": {
   "interpreter": {
    "hash": "203ec5af3e26acf3e3c83a4183d4b4efe59642f60e2721ccf6236536a59ece46"
   }
  }
 },
 "nbformat": 4,
 "nbformat_minor": 2
}
