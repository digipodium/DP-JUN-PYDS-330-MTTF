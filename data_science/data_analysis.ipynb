{
 "cells": [
  {
   "cell_type": "code",
   "execution_count": 1,
   "metadata": {},
   "outputs": [],
   "source": [
    "import numpy as np\n",
    "import pandas as pd"
   ]
  },
  {
   "cell_type": "code",
   "execution_count": 2,
   "metadata": {},
   "outputs": [],
   "source": [
    "x = [1,2,3,5,1,2]\n",
    "nx=np.array(x)"
   ]
  },
  {
   "cell_type": "code",
   "execution_count": 3,
   "metadata": {},
   "outputs": [
    {
     "name": "stdout",
     "output_type": "stream",
     "text": [
      "[1 2 3 5 1 2]\n"
     ]
    }
   ],
   "source": [
    "print(nx)"
   ]
  },
  {
   "cell_type": "code",
   "execution_count": 4,
   "metadata": {},
   "outputs": [
    {
     "name": "stdout",
     "output_type": "stream",
     "text": [
      "(6,)\n"
     ]
    }
   ],
   "source": [
    "print(nx.shape)"
   ]
  },
  {
   "cell_type": "code",
   "execution_count": 5,
   "metadata": {},
   "outputs": [],
   "source": [
    "ny = np.array([[1,2,3],[4,5,6]])"
   ]
  },
  {
   "cell_type": "code",
   "execution_count": 6,
   "metadata": {},
   "outputs": [
    {
     "name": "stdout",
     "output_type": "stream",
     "text": [
      "(2, 3)\n"
     ]
    }
   ],
   "source": [
    "print(ny.shape)"
   ]
  },
  {
   "cell_type": "code",
   "execution_count": 7,
   "metadata": {},
   "outputs": [
    {
     "data": {
      "text/plain": [
       "array([[1, 2, 3],\n",
       "       [4, 5, 6]])"
      ]
     },
     "execution_count": 7,
     "metadata": {},
     "output_type": "execute_result"
    }
   ],
   "source": [
    "ny"
   ]
  },
  {
   "cell_type": "code",
   "execution_count": 8,
   "metadata": {},
   "outputs": [
    {
     "data": {
      "text/plain": [
       "array([ 1. ,  1.2,  1.4,  1.6,  1.8,  2. ,  2.2,  2.4,  2.6,  2.8,  3. ,\n",
       "        3.2,  3.4,  3.6,  3.8,  4. ,  4.2,  4.4,  4.6,  4.8,  5. ,  5.2,\n",
       "        5.4,  5.6,  5.8,  6. ,  6.2,  6.4,  6.6,  6.8,  7. ,  7.2,  7.4,\n",
       "        7.6,  7.8,  8. ,  8.2,  8.4,  8.6,  8.8,  9. ,  9.2,  9.4,  9.6,\n",
       "        9.8, 10. , 10.2, 10.4, 10.6, 10.8, 11. , 11.2, 11.4, 11.6, 11.8,\n",
       "       12. , 12.2, 12.4, 12.6, 12.8, 13. , 13.2, 13.4, 13.6, 13.8, 14. ,\n",
       "       14.2, 14.4, 14.6, 14.8, 15. , 15.2, 15.4, 15.6, 15.8, 16. , 16.2,\n",
       "       16.4, 16.6, 16.8, 17. , 17.2, 17.4, 17.6, 17.8, 18. , 18.2, 18.4,\n",
       "       18.6, 18.8, 19. , 19.2, 19.4, 19.6, 19.8, 20. , 20.2, 20.4, 20.6,\n",
       "       20.8, 21. , 21.2, 21.4, 21.6, 21.8, 22. , 22.2, 22.4, 22.6, 22.8,\n",
       "       23. , 23.2, 23.4, 23.6, 23.8, 24. , 24.2, 24.4, 24.6, 24.8, 25. ,\n",
       "       25.2, 25.4, 25.6, 25.8, 26. , 26.2, 26.4, 26.6, 26.8, 27. , 27.2,\n",
       "       27.4, 27.6, 27.8, 28. , 28.2, 28.4, 28.6, 28.8, 29. , 29.2, 29.4,\n",
       "       29.6, 29.8, 30. , 30.2, 30.4, 30.6, 30.8, 31. , 31.2, 31.4, 31.6,\n",
       "       31.8, 32. , 32.2, 32.4, 32.6, 32.8, 33. , 33.2, 33.4, 33.6, 33.8,\n",
       "       34. , 34.2, 34.4, 34.6, 34.8, 35. , 35.2, 35.4, 35.6, 35.8, 36. ,\n",
       "       36.2, 36.4, 36.6, 36.8, 37. , 37.2, 37.4, 37.6, 37.8, 38. , 38.2,\n",
       "       38.4, 38.6, 38.8, 39. , 39.2, 39.4, 39.6, 39.8, 40. , 40.2, 40.4,\n",
       "       40.6, 40.8, 41. , 41.2, 41.4, 41.6, 41.8, 42. , 42.2, 42.4, 42.6,\n",
       "       42.8, 43. , 43.2, 43.4, 43.6, 43.8, 44. , 44.2, 44.4, 44.6, 44.8,\n",
       "       45. , 45.2, 45.4, 45.6, 45.8, 46. , 46.2, 46.4, 46.6, 46.8, 47. ,\n",
       "       47.2, 47.4, 47.6, 47.8, 48. , 48.2, 48.4, 48.6, 48.8, 49. , 49.2,\n",
       "       49.4, 49.6, 49.8, 50. , 50.2, 50.4, 50.6, 50.8, 51. , 51.2, 51.4,\n",
       "       51.6, 51.8, 52. , 52.2, 52.4, 52.6, 52.8, 53. , 53.2, 53.4, 53.6,\n",
       "       53.8, 54. , 54.2, 54.4, 54.6, 54.8, 55. , 55.2, 55.4, 55.6, 55.8,\n",
       "       56. , 56.2, 56.4, 56.6, 56.8, 57. , 57.2, 57.4, 57.6, 57.8, 58. ,\n",
       "       58.2, 58.4, 58.6, 58.8, 59. , 59.2, 59.4, 59.6, 59.8, 60. , 60.2,\n",
       "       60.4, 60.6, 60.8, 61. , 61.2, 61.4, 61.6, 61.8, 62. , 62.2, 62.4,\n",
       "       62.6, 62.8, 63. , 63.2, 63.4, 63.6, 63.8, 64. , 64.2, 64.4, 64.6,\n",
       "       64.8, 65. , 65.2, 65.4, 65.6, 65.8, 66. , 66.2, 66.4, 66.6, 66.8,\n",
       "       67. , 67.2, 67.4, 67.6, 67.8, 68. , 68.2, 68.4, 68.6, 68.8, 69. ,\n",
       "       69.2, 69.4, 69.6, 69.8, 70. , 70.2, 70.4, 70.6, 70.8, 71. , 71.2,\n",
       "       71.4, 71.6, 71.8, 72. , 72.2, 72.4, 72.6, 72.8, 73. , 73.2, 73.4,\n",
       "       73.6, 73.8, 74. , 74.2, 74.4, 74.6, 74.8, 75. , 75.2, 75.4, 75.6,\n",
       "       75.8, 76. , 76.2, 76.4, 76.6, 76.8, 77. , 77.2, 77.4, 77.6, 77.8,\n",
       "       78. , 78.2, 78.4, 78.6, 78.8, 79. , 79.2, 79.4, 79.6, 79.8, 80. ,\n",
       "       80.2, 80.4, 80.6, 80.8, 81. , 81.2, 81.4, 81.6, 81.8, 82. , 82.2,\n",
       "       82.4, 82.6, 82.8, 83. , 83.2, 83.4, 83.6, 83.8, 84. , 84.2, 84.4,\n",
       "       84.6, 84.8, 85. , 85.2, 85.4, 85.6, 85.8, 86. , 86.2, 86.4, 86.6,\n",
       "       86.8, 87. , 87.2, 87.4, 87.6, 87.8, 88. , 88.2, 88.4, 88.6, 88.8,\n",
       "       89. , 89.2, 89.4, 89.6, 89.8, 90. , 90.2, 90.4, 90.6, 90.8, 91. ,\n",
       "       91.2, 91.4, 91.6, 91.8, 92. , 92.2, 92.4, 92.6, 92.8, 93. , 93.2,\n",
       "       93.4, 93.6, 93.8, 94. , 94.2, 94.4, 94.6, 94.8, 95. , 95.2, 95.4,\n",
       "       95.6, 95.8, 96. , 96.2, 96.4, 96.6, 96.8, 97. , 97.2, 97.4, 97.6,\n",
       "       97.8, 98. , 98.2, 98.4, 98.6, 98.8, 99. , 99.2, 99.4, 99.6, 99.8])"
      ]
     },
     "execution_count": 8,
     "metadata": {},
     "output_type": "execute_result"
    }
   ],
   "source": [
    "one = np.arange(1,100,.2)\n",
    "one"
   ]
  },
  {
   "cell_type": "code",
   "execution_count": 9,
   "metadata": {},
   "outputs": [
    {
     "name": "stdout",
     "output_type": "stream",
     "text": [
      "495\n"
     ]
    }
   ],
   "source": [
    "print(one.size)"
   ]
  },
  {
   "cell_type": "code",
   "execution_count": 10,
   "metadata": {},
   "outputs": [
    {
     "data": {
      "text/plain": [
       "array([  0.        ,   0.50251256,   1.00502513,   1.50753769,\n",
       "         2.01005025,   2.51256281,   3.01507538,   3.51758794,\n",
       "         4.0201005 ,   4.52261307,   5.02512563,   5.52763819,\n",
       "         6.03015075,   6.53266332,   7.03517588,   7.53768844,\n",
       "         8.04020101,   8.54271357,   9.04522613,   9.54773869,\n",
       "        10.05025126,  10.55276382,  11.05527638,  11.55778894,\n",
       "        12.06030151,  12.56281407,  13.06532663,  13.5678392 ,\n",
       "        14.07035176,  14.57286432,  15.07537688,  15.57788945,\n",
       "        16.08040201,  16.58291457,  17.08542714,  17.5879397 ,\n",
       "        18.09045226,  18.59296482,  19.09547739,  19.59798995,\n",
       "        20.10050251,  20.60301508,  21.10552764,  21.6080402 ,\n",
       "        22.11055276,  22.61306533,  23.11557789,  23.61809045,\n",
       "        24.12060302,  24.62311558,  25.12562814,  25.6281407 ,\n",
       "        26.13065327,  26.63316583,  27.13567839,  27.63819095,\n",
       "        28.14070352,  28.64321608,  29.14572864,  29.64824121,\n",
       "        30.15075377,  30.65326633,  31.15577889,  31.65829146,\n",
       "        32.16080402,  32.66331658,  33.16582915,  33.66834171,\n",
       "        34.17085427,  34.67336683,  35.1758794 ,  35.67839196,\n",
       "        36.18090452,  36.68341709,  37.18592965,  37.68844221,\n",
       "        38.19095477,  38.69346734,  39.1959799 ,  39.69849246,\n",
       "        40.20100503,  40.70351759,  41.20603015,  41.70854271,\n",
       "        42.21105528,  42.71356784,  43.2160804 ,  43.71859296,\n",
       "        44.22110553,  44.72361809,  45.22613065,  45.72864322,\n",
       "        46.23115578,  46.73366834,  47.2361809 ,  47.73869347,\n",
       "        48.24120603,  48.74371859,  49.24623116,  49.74874372,\n",
       "        50.25125628,  50.75376884,  51.25628141,  51.75879397,\n",
       "        52.26130653,  52.7638191 ,  53.26633166,  53.76884422,\n",
       "        54.27135678,  54.77386935,  55.27638191,  55.77889447,\n",
       "        56.28140704,  56.7839196 ,  57.28643216,  57.78894472,\n",
       "        58.29145729,  58.79396985,  59.29648241,  59.79899497,\n",
       "        60.30150754,  60.8040201 ,  61.30653266,  61.80904523,\n",
       "        62.31155779,  62.81407035,  63.31658291,  63.81909548,\n",
       "        64.32160804,  64.8241206 ,  65.32663317,  65.82914573,\n",
       "        66.33165829,  66.83417085,  67.33668342,  67.83919598,\n",
       "        68.34170854,  68.84422111,  69.34673367,  69.84924623,\n",
       "        70.35175879,  70.85427136,  71.35678392,  71.85929648,\n",
       "        72.36180905,  72.86432161,  73.36683417,  73.86934673,\n",
       "        74.3718593 ,  74.87437186,  75.37688442,  75.87939698,\n",
       "        76.38190955,  76.88442211,  77.38693467,  77.88944724,\n",
       "        78.3919598 ,  78.89447236,  79.39698492,  79.89949749,\n",
       "        80.40201005,  80.90452261,  81.40703518,  81.90954774,\n",
       "        82.4120603 ,  82.91457286,  83.41708543,  83.91959799,\n",
       "        84.42211055,  84.92462312,  85.42713568,  85.92964824,\n",
       "        86.4321608 ,  86.93467337,  87.43718593,  87.93969849,\n",
       "        88.44221106,  88.94472362,  89.44723618,  89.94974874,\n",
       "        90.45226131,  90.95477387,  91.45728643,  91.95979899,\n",
       "        92.46231156,  92.96482412,  93.46733668,  93.96984925,\n",
       "        94.47236181,  94.97487437,  95.47738693,  95.9798995 ,\n",
       "        96.48241206,  96.98492462,  97.48743719,  97.98994975,\n",
       "        98.49246231,  98.99497487,  99.49748744, 100.        ])"
      ]
     },
     "execution_count": 10,
     "metadata": {},
     "output_type": "execute_result"
    }
   ],
   "source": [
    "two = np.linspace(0,100,200)\n",
    "two"
   ]
  },
  {
   "cell_type": "code",
   "execution_count": 11,
   "metadata": {},
   "outputs": [],
   "source": [
    "n3 = np.random.rand(100)"
   ]
  },
  {
   "cell_type": "code",
   "execution_count": 12,
   "metadata": {},
   "outputs": [
    {
     "data": {
      "text/plain": [
       "array([0.3078461 , 0.63017961, 0.06435599, 0.29805347, 0.27397881,\n",
       "       0.464442  , 0.9657666 , 0.73595506, 0.27273967, 0.21129854,\n",
       "       0.10558104, 0.93668566, 0.66643554, 0.22259183, 0.6733784 ,\n",
       "       0.82640871, 0.89548282, 0.72763083, 0.74991394, 0.90124151,\n",
       "       0.24655525, 0.9254145 , 0.76058605, 0.30308564, 0.58034781,\n",
       "       0.0276341 , 0.84764949, 0.62313358, 0.69204797, 0.12203989,\n",
       "       0.23181636, 0.96878776, 0.38007641, 0.73702033, 0.30555674,\n",
       "       0.34938496, 0.04428722, 0.67085449, 0.73468948, 0.92624493,\n",
       "       0.01291511, 0.38342748, 0.1619553 , 0.29639937, 0.99878843,\n",
       "       0.95809564, 0.66364843, 0.02278709, 0.04566819, 0.80333468,\n",
       "       0.01204029, 0.66835392, 0.97455126, 0.96971522, 0.02177058,\n",
       "       0.26324999, 0.39864561, 0.5901178 , 0.41325469, 0.70879631,\n",
       "       0.80915802, 0.36611809, 0.96025837, 0.4655184 , 0.65021465,\n",
       "       0.4144007 , 0.76709905, 0.35365237, 0.93802028, 0.05893648,\n",
       "       0.43148813, 0.15677564, 0.9296797 , 0.41859782, 0.24108282,\n",
       "       0.17363007, 0.03833008, 0.7152465 , 0.58801086, 0.00457833,\n",
       "       0.67027803, 0.25413135, 0.03453452, 0.7986718 , 0.77612474,\n",
       "       0.16807206, 0.26222612, 0.55362695, 0.73360499, 0.76446078,\n",
       "       0.04580036, 0.06472952, 0.37760164, 0.62567066, 0.11261083,\n",
       "       0.59027742, 0.52039695, 0.79643752, 0.5154791 , 0.12793936])"
      ]
     },
     "execution_count": 12,
     "metadata": {},
     "output_type": "execute_result"
    }
   ],
   "source": [
    "n3"
   ]
  },
  {
   "cell_type": "code",
   "execution_count": 13,
   "metadata": {},
   "outputs": [
    {
     "data": {
      "text/plain": [
       "array([9, 4, 7, 9, 4, 8, 5, 7, 2, 5, 1, 7, 9, 7, 2, 2, 9, 3, 9, 2, 2, 8,\n",
       "       3, 8, 8, 9, 3, 9, 8, 4, 1, 5, 7, 2, 6, 9, 2, 5, 5, 2, 7, 9, 7, 1,\n",
       "       3, 6, 1, 8, 4, 4, 3, 3, 4, 9, 5, 3, 7, 1, 2, 6, 6, 3, 5, 2, 4, 5,\n",
       "       2, 9, 5, 1, 2, 9, 8, 3, 9, 5, 9, 6, 2, 6, 5, 4, 7, 8, 4, 2, 7, 3,\n",
       "       9, 3, 6, 6, 8, 1, 8, 7, 1, 8, 3, 6])"
      ]
     },
     "execution_count": 13,
     "metadata": {},
     "output_type": "execute_result"
    }
   ],
   "source": [
    "n4 = np.random.randint(1,10,100)\n",
    "n4"
   ]
  },
  {
   "cell_type": "code",
   "execution_count": 14,
   "metadata": {},
   "outputs": [
    {
     "data": {
      "text/plain": [
       "array([[9, 4, 7, 9, 4, 8, 5, 7, 2, 5],\n",
       "       [1, 7, 9, 7, 2, 2, 9, 3, 9, 2],\n",
       "       [2, 8, 3, 8, 8, 9, 3, 9, 8, 4],\n",
       "       [1, 5, 7, 2, 6, 9, 2, 5, 5, 2],\n",
       "       [7, 9, 7, 1, 3, 6, 1, 8, 4, 4],\n",
       "       [3, 3, 4, 9, 5, 3, 7, 1, 2, 6],\n",
       "       [6, 3, 5, 2, 4, 5, 2, 9, 5, 1],\n",
       "       [2, 9, 8, 3, 9, 5, 9, 6, 2, 6],\n",
       "       [5, 4, 7, 8, 4, 2, 7, 3, 9, 3],\n",
       "       [6, 6, 8, 1, 8, 7, 1, 8, 3, 6]])"
      ]
     },
     "execution_count": 14,
     "metadata": {},
     "output_type": "execute_result"
    }
   ],
   "source": [
    "n4.reshape((10,10))\n"
   ]
  },
  {
   "cell_type": "code",
   "execution_count": 15,
   "metadata": {},
   "outputs": [],
   "source": [
    "n5 = n4.reshape((25,4))"
   ]
  },
  {
   "cell_type": "code",
   "execution_count": 16,
   "metadata": {},
   "outputs": [],
   "source": [
    "n1 = np.random.randint(1,10,(5,5))\n",
    "n2 = np.random.randint(1,10,(5,5))"
   ]
  },
  {
   "cell_type": "code",
   "execution_count": 17,
   "metadata": {},
   "outputs": [
    {
     "data": {
      "text/plain": [
       "array([[12, 11, 14, 16, 11],\n",
       "       [ 3,  7, 14,  9,  9],\n",
       "       [ 7, 12, 10, 11, 12],\n",
       "       [ 5, 14, 10,  2,  5],\n",
       "       [ 9, 10, 12, 10,  7]])"
      ]
     },
     "execution_count": 17,
     "metadata": {},
     "output_type": "execute_result"
    }
   ],
   "source": [
    "n1 + n2"
   ]
  },
  {
   "cell_type": "code",
   "execution_count": 18,
   "metadata": {},
   "outputs": [
    {
     "data": {
      "text/plain": [
       "array([[ 0,  3,  0,  2, -5],\n",
       "       [ 1,  3, -2,  1, -1],\n",
       "       [ 1, -2,  6,  1,  0],\n",
       "       [ 3,  0,  0,  0,  3],\n",
       "       [ 1, -4, -4,  6,  1]])"
      ]
     },
     "execution_count": 18,
     "metadata": {},
     "output_type": "execute_result"
    }
   ],
   "source": [
    "n1 - n2"
   ]
  },
  {
   "cell_type": "code",
   "execution_count": 19,
   "metadata": {},
   "outputs": [
    {
     "data": {
      "text/plain": [
       "array([[1.        , 1.75      , 1.        , 1.28571429, 0.375     ],\n",
       "       [2.        , 2.5       , 0.75      , 1.25      , 0.8       ],\n",
       "       [1.33333333, 0.71428571, 4.        , 1.2       , 1.        ],\n",
       "       [4.        , 1.        , 1.        , 1.        , 4.        ],\n",
       "       [1.25      , 0.42857143, 0.5       , 4.        , 1.33333333]])"
      ]
     },
     "execution_count": 19,
     "metadata": {},
     "output_type": "execute_result"
    }
   ],
   "source": [
    "n1 / n2"
   ]
  },
  {
   "cell_type": "code",
   "execution_count": 20,
   "metadata": {},
   "outputs": [
    {
     "data": {
      "text/plain": [
       "array([[   46656,      256,   823543,   823543, 16777216],\n",
       "       [       1,        4, 16777216,      256,     3125],\n",
       "       [      27,   823543,        4,     3125,    46656],\n",
       "       [       1,   823543,     3125,        1,        1],\n",
       "       [     256,   823543, 16777216,        4,       27]])"
      ]
     },
     "execution_count": 20,
     "metadata": {},
     "output_type": "execute_result"
    }
   ],
   "source": [
    "n2 ** n2"
   ]
  },
  {
   "cell_type": "code",
   "execution_count": 21,
   "metadata": {},
   "outputs": [
    {
     "data": {
      "text/plain": [
       "array([[1296, 2401, 2401, 6561,   81],\n",
       "       [  16,  625, 1296,  625,  256],\n",
       "       [ 256,  625, 4096, 1296, 1296],\n",
       "       [ 256, 2401,  625,    1,  256],\n",
       "       [ 625,   81,  256, 4096,  256]], dtype=int32)"
      ]
     },
     "execution_count": 21,
     "metadata": {},
     "output_type": "execute_result"
    }
   ],
   "source": [
    "n1 ** 4"
   ]
  },
  {
   "cell_type": "code",
   "execution_count": 22,
   "metadata": {},
   "outputs": [
    {
     "data": {
      "text/plain": [
       "array([[16, 17, 17, 19, 13],\n",
       "       [12, 15, 16, 15, 14],\n",
       "       [14, 15, 18, 16, 16],\n",
       "       [14, 17, 15, 11, 14],\n",
       "       [15, 13, 14, 18, 14]])"
      ]
     },
     "execution_count": 22,
     "metadata": {},
     "output_type": "execute_result"
    }
   ],
   "source": [
    "n1 + 10"
   ]
  },
  {
   "cell_type": "code",
   "execution_count": 23,
   "metadata": {},
   "outputs": [
    {
     "data": {
      "text/plain": [
       "array([[ 85, 171, 181, 120, 143],\n",
       "       [ 56, 123, 123,  77,  94],\n",
       "       [ 83, 166, 162, 106, 129],\n",
       "       [ 63, 100, 131,  90, 110],\n",
       "       [ 69, 138, 139,  83,  99]])"
      ]
     },
     "execution_count": 23,
     "metadata": {},
     "output_type": "execute_result"
    }
   ],
   "source": [
    "n1.dot(n2)"
   ]
  },
  {
   "cell_type": "code",
   "execution_count": 24,
   "metadata": {},
   "outputs": [
    {
     "data": {
      "text/plain": [
       "array([[36, 28, 49, 63, 24],\n",
       "       [ 2, 10, 48, 20, 20],\n",
       "       [12, 35, 16, 30, 36],\n",
       "       [ 4, 49, 25,  1,  4],\n",
       "       [20, 21, 32, 16, 12]])"
      ]
     },
     "execution_count": 24,
     "metadata": {},
     "output_type": "execute_result"
    }
   ],
   "source": [
    "n1 * n2"
   ]
  },
  {
   "cell_type": "code",
   "execution_count": 25,
   "metadata": {},
   "outputs": [
    {
     "data": {
      "text/plain": [
       "array([9, 3, 7, 2, 1, 1, 4, 8, 4, 8])"
      ]
     },
     "execution_count": 25,
     "metadata": {},
     "output_type": "execute_result"
    }
   ],
   "source": [
    "n6 = np.random.randint(1,10,10)\n",
    "n6"
   ]
  },
  {
   "cell_type": "code",
   "execution_count": 26,
   "metadata": {},
   "outputs": [
    {
     "data": {
      "text/plain": [
       "9"
      ]
     },
     "execution_count": 26,
     "metadata": {},
     "output_type": "execute_result"
    }
   ],
   "source": [
    "n6[0]"
   ]
  },
  {
   "cell_type": "code",
   "execution_count": 27,
   "metadata": {},
   "outputs": [
    {
     "data": {
      "text/plain": [
       "3"
      ]
     },
     "execution_count": 27,
     "metadata": {},
     "output_type": "execute_result"
    }
   ],
   "source": [
    "n6[1]"
   ]
  },
  {
   "cell_type": "code",
   "execution_count": 28,
   "metadata": {},
   "outputs": [
    {
     "data": {
      "text/plain": [
       "8"
      ]
     },
     "execution_count": 28,
     "metadata": {},
     "output_type": "execute_result"
    }
   ],
   "source": [
    "n6[-1]"
   ]
  },
  {
   "cell_type": "code",
   "execution_count": 29,
   "metadata": {},
   "outputs": [
    {
     "data": {
      "text/plain": [
       "array([9, 3, 7, 2, 1])"
      ]
     },
     "execution_count": 29,
     "metadata": {},
     "output_type": "execute_result"
    }
   ],
   "source": [
    "n6[:5]"
   ]
  },
  {
   "cell_type": "code",
   "execution_count": 30,
   "metadata": {},
   "outputs": [
    {
     "data": {
      "text/plain": [
       "array([1, 4, 8, 4, 8])"
      ]
     },
     "execution_count": 30,
     "metadata": {},
     "output_type": "execute_result"
    }
   ],
   "source": [
    "n6[5:]"
   ]
  },
  {
   "cell_type": "code",
   "execution_count": 31,
   "metadata": {},
   "outputs": [
    {
     "data": {
      "text/plain": [
       "array([9, 4, 7, 9, 4, 8, 5, 7, 2, 5, 1, 7, 9, 7, 2, 2, 9, 3, 9, 2, 2, 8,\n",
       "       3, 8, 8, 9, 3, 9, 8, 4, 1, 5, 7, 2, 6, 9, 2, 5, 5, 2, 7, 9, 7, 1,\n",
       "       3, 6, 1, 8, 4, 4, 3, 3, 4, 9, 5, 3, 7, 1, 2, 6, 6, 3, 5, 2, 4, 5,\n",
       "       2, 9, 5, 1, 2, 9, 8, 3, 9, 5, 9, 6, 2, 6, 5, 4, 7, 8, 4, 2, 7, 3,\n",
       "       9, 3, 6, 6, 8, 1, 8, 7, 1, 8, 3, 6])"
      ]
     },
     "execution_count": 31,
     "metadata": {},
     "output_type": "execute_result"
    }
   ],
   "source": [
    "# flatten a n dimen matrix to 1 dimen matrix\n",
    "n5.flatten()"
   ]
  },
  {
   "cell_type": "code",
   "execution_count": 32,
   "metadata": {},
   "outputs": [
    {
     "data": {
      "text/plain": [
       "array([9, 4, 7, 9, 4, 8, 5, 7, 2, 5, 1, 7, 9, 7, 2, 2, 9, 3, 9, 2, 2, 8,\n",
       "       3, 8, 8, 9, 3, 9, 8, 4, 1, 5, 7, 2, 6, 9, 2, 5, 5, 2, 7, 9, 7, 1,\n",
       "       3, 6, 1, 8, 4, 4, 3, 3, 4, 9, 5, 3, 7, 1, 2, 6, 6, 3, 5, 2, 4, 5,\n",
       "       2, 9, 5, 1, 2, 9, 8, 3, 9, 5, 9, 6, 2, 6, 5, 4, 7, 8, 4, 2, 7, 3,\n",
       "       9, 3, 6, 6, 8, 1, 8, 7, 1, 8, 3, 6])"
      ]
     },
     "execution_count": 32,
     "metadata": {},
     "output_type": "execute_result"
    }
   ],
   "source": [
    "# flatten a n dimen matrix to 1 dimen matrix\n",
    "n5.ravel()"
   ]
  },
  {
   "cell_type": "code",
   "execution_count": 33,
   "metadata": {},
   "outputs": [],
   "source": [
    "x = np.random.randint(1,10,(5,5))"
   ]
  },
  {
   "cell_type": "code",
   "execution_count": 34,
   "metadata": {},
   "outputs": [
    {
     "data": {
      "text/plain": [
       "array([[4, 7, 4, 1, 9],\n",
       "       [8, 7, 8, 6, 4],\n",
       "       [1, 2, 5, 9, 3],\n",
       "       [9, 7, 2, 8, 7],\n",
       "       [6, 6, 4, 4, 4]])"
      ]
     },
     "execution_count": 34,
     "metadata": {},
     "output_type": "execute_result"
    }
   ],
   "source": [
    "x.transpose() # transpose the matrix , row to column and column to row"
   ]
  },
  {
   "cell_type": "code",
   "execution_count": 35,
   "metadata": {},
   "outputs": [
    {
     "data": {
      "text/plain": [
       "array([[4, 7, 4, 1, 9],\n",
       "       [8, 7, 8, 6, 4],\n",
       "       [1, 2, 5, 9, 3],\n",
       "       [9, 7, 2, 8, 7],\n",
       "       [6, 6, 4, 4, 4]])"
      ]
     },
     "execution_count": 35,
     "metadata": {},
     "output_type": "execute_result"
    }
   ],
   "source": [
    "x.T # transpose the matrix , row to column and column to row"
   ]
  },
  {
   "cell_type": "code",
   "execution_count": 36,
   "metadata": {},
   "outputs": [
    {
     "data": {
      "text/plain": [
       "array([9, 3, 7, 2, 1, 1, 4, 8, 4, 8])"
      ]
     },
     "execution_count": 36,
     "metadata": {},
     "output_type": "execute_result"
    }
   ],
   "source": [
    "n6"
   ]
  },
  {
   "cell_type": "code",
   "execution_count": 37,
   "metadata": {},
   "outputs": [
    {
     "data": {
      "text/plain": [
       "9"
      ]
     },
     "execution_count": 37,
     "metadata": {},
     "output_type": "execute_result"
    }
   ],
   "source": [
    "n6.max()"
   ]
  },
  {
   "cell_type": "code",
   "execution_count": 38,
   "metadata": {},
   "outputs": [
    {
     "data": {
      "text/plain": [
       "4.7"
      ]
     },
     "execution_count": 38,
     "metadata": {},
     "output_type": "execute_result"
    }
   ],
   "source": [
    "n6.mean()"
   ]
  },
  {
   "cell_type": "code",
   "execution_count": 39,
   "metadata": {},
   "outputs": [
    {
     "data": {
      "text/plain": [
       "47"
      ]
     },
     "execution_count": 39,
     "metadata": {},
     "output_type": "execute_result"
    }
   ],
   "source": [
    "n6.sum()"
   ]
  },
  {
   "cell_type": "code",
   "execution_count": 40,
   "metadata": {},
   "outputs": [
    {
     "data": {
      "text/plain": [
       "517"
      ]
     },
     "execution_count": 40,
     "metadata": {},
     "output_type": "execute_result"
    }
   ],
   "source": [
    "n5.sum() # sum all all values"
   ]
  },
  {
   "cell_type": "code",
   "execution_count": 41,
   "metadata": {},
   "outputs": [
    {
     "data": {
      "text/plain": [
       "array([144, 120, 111, 142])"
      ]
     },
     "execution_count": 41,
     "metadata": {},
     "output_type": "execute_result"
    }
   ],
   "source": [
    "n5.sum(axis=0) # sum all values in each column"
   ]
  },
  {
   "cell_type": "code",
   "execution_count": 42,
   "metadata": {},
   "outputs": [
    {
     "data": {
      "text/plain": [
       "array([29, 24, 15, 20, 23, 21, 29, 18, 24, 14, 24, 18, 14, 21, 16, 16, 20,\n",
       "       17, 25, 23, 24, 16, 24, 24, 18])"
      ]
     },
     "execution_count": 42,
     "metadata": {},
     "output_type": "execute_result"
    }
   ],
   "source": [
    "n5.sum(axis=1) # sum all values in each row"
   ]
  },
  {
   "cell_type": "code",
   "execution_count": 43,
   "metadata": {},
   "outputs": [
    {
     "name": "stdout",
     "output_type": "stream",
     "text": [
      "[9 3 7 2 1 1 4 8 4 8] 9 found at index 0\n",
      "[9 3 7 2 1 1 4 8 4 8] 1 found at index 4\n"
     ]
    }
   ],
   "source": [
    "print(n6, n6.max(),\"found at index\", n6.argmax())\n",
    "print(n6, n6.min(),\"found at index\", n6.argmin())"
   ]
  },
  {
   "cell_type": "code",
   "execution_count": 44,
   "metadata": {},
   "outputs": [
    {
     "data": {
      "text/plain": [
       "0"
      ]
     },
     "execution_count": 44,
     "metadata": {},
     "output_type": "execute_result"
    }
   ],
   "source": [
    "n6.argmax() # the index of the max value"
   ]
  },
  {
   "cell_type": "code",
   "execution_count": 45,
   "metadata": {},
   "outputs": [
    {
     "name": "stdout",
     "output_type": "stream",
     "text": [
      "[[40 31]\n",
      " [15 83]\n",
      " [60  4]]\n",
      "[[79  5]\n",
      " [79 30]\n",
      " [67 37]]\n",
      "[[ 2 25 78]\n",
      " [20 12 53]]\n"
     ]
    }
   ],
   "source": [
    "a = np.random.randint(1,100, (3,2))\n",
    "b = np.random.randint(1,100, (3,2))\n",
    "c = np.random.randint(1,100, (2,3))\n",
    "\n",
    "print(a)\n",
    "print(b)\n",
    "print(c)"
   ]
  },
  {
   "cell_type": "code",
   "execution_count": 46,
   "metadata": {},
   "outputs": [
    {
     "data": {
      "text/plain": [
       "array([[40, 31, 79,  5],\n",
       "       [15, 83, 79, 30],\n",
       "       [60,  4, 67, 37]])"
      ]
     },
     "execution_count": 46,
     "metadata": {},
     "output_type": "execute_result"
    }
   ],
   "source": [
    "np.hstack((a,b)) # horizontal stack"
   ]
  },
  {
   "cell_type": "code",
   "execution_count": 47,
   "metadata": {},
   "outputs": [
    {
     "data": {
      "text/plain": [
       "array([[40, 31],\n",
       "       [15, 83],\n",
       "       [60,  4],\n",
       "       [79,  5],\n",
       "       [79, 30],\n",
       "       [67, 37]])"
      ]
     },
     "execution_count": 47,
     "metadata": {},
     "output_type": "execute_result"
    }
   ],
   "source": [
    "np.vstack((a,b)) # vertical stack"
   ]
  },
  {
   "cell_type": "code",
   "execution_count": 48,
   "metadata": {},
   "outputs": [
    {
     "data": {
      "text/plain": [
       "array([[40, 31],\n",
       "       [15, 83],\n",
       "       [60,  4],\n",
       "       [ 2, 20],\n",
       "       [25, 12],\n",
       "       [78, 53]])"
      ]
     },
     "execution_count": 48,
     "metadata": {},
     "output_type": "execute_result"
    }
   ],
   "source": [
    "np.vstack((a, c.T))"
   ]
  },
  {
   "cell_type": "code",
   "execution_count": 49,
   "metadata": {},
   "outputs": [],
   "source": [
    "m = np.array([1,2,3,4,2,2,3,5,6,1,2,2,3,5,6,1,2,3,5,6,2,4,5,6,3,1,2,3,5,7,6,8,9])"
   ]
  },
  {
   "cell_type": "code",
   "execution_count": 50,
   "metadata": {},
   "outputs": [
    {
     "data": {
      "text/plain": [
       "array([False, False, False, False, False, False, False, False,  True,\n",
       "       False, False, False, False, False,  True, False, False, False,\n",
       "       False,  True, False, False, False,  True, False, False, False,\n",
       "       False, False,  True,  True,  True,  True])"
      ]
     },
     "execution_count": 50,
     "metadata": {},
     "output_type": "execute_result"
    }
   ],
   "source": [
    "# boolean filter\n",
    "m > 5"
   ]
  },
  {
   "cell_type": "code",
   "execution_count": 51,
   "metadata": {},
   "outputs": [
    {
     "data": {
      "text/plain": [
       "array([6, 6, 6, 6, 7, 6, 8, 9])"
      ]
     },
     "execution_count": 51,
     "metadata": {},
     "output_type": "execute_result"
    }
   ],
   "source": [
    "m[m > 5]"
   ]
  },
  {
   "cell_type": "code",
   "execution_count": 52,
   "metadata": {},
   "outputs": [
    {
     "data": {
      "text/plain": [
       "array([1, 3, 4, 3, 5, 6, 1, 3, 5, 6, 1, 3, 5, 6, 4, 5, 6, 3, 1, 3, 5, 7,\n",
       "       6, 8, 9])"
      ]
     },
     "execution_count": 52,
     "metadata": {},
     "output_type": "execute_result"
    }
   ],
   "source": [
    "m[m != 2]"
   ]
  },
  {
   "cell_type": "code",
   "execution_count": 53,
   "metadata": {},
   "outputs": [
    {
     "data": {
      "text/plain": [
       "array([3, 4, 3, 5, 6, 3, 5, 6, 3, 5, 6, 4, 5, 6, 3, 3, 5, 7, 6])"
      ]
     },
     "execution_count": 53,
     "metadata": {},
     "output_type": "execute_result"
    }
   ],
   "source": [
    "# in range of 2 to 8\n",
    "m[(m > 2) & (m < 8)]"
   ]
  },
  {
   "cell_type": "code",
   "execution_count": 56,
   "metadata": {},
   "outputs": [],
   "source": [
    "# user created numpy matrix\n",
    "mat = []\n",
    "for i in range(10):\n",
    "    mat.append(int(input('Enter value')))\n",
    "mat = np.array(mat)"
   ]
  },
  {
   "cell_type": "code",
   "execution_count": 58,
   "metadata": {},
   "outputs": [
    {
     "name": "stdout",
     "output_type": "stream",
     "text": [
      "[2 3 1 2 4 6 6 3 2 1] (10,)\n"
     ]
    }
   ],
   "source": [
    "print(mat, mat.shape)"
   ]
  },
  {
   "cell_type": "code",
   "execution_count": 59,
   "metadata": {},
   "outputs": [
    {
     "name": "stdout",
     "output_type": "stream",
     "text": [
      "[[3 2 5]\n",
      " [2 1 2]] (2, 3)\n"
     ]
    }
   ],
   "source": [
    "# user created numpy matrix\n",
    "mat= []\n",
    "for i in range(2):\n",
    "    smat = []\n",
    "    for j in range(3):\n",
    "        smat.append(int(input('Enter value')))\n",
    "    mat.append(smat)\n",
    "mat = np.array(mat)\n",
    "print(mat, mat.shape)"
   ]
  },
  {
   "cell_type": "code",
   "execution_count": null,
   "metadata": {},
   "outputs": [],
   "source": []
  }
 ],
 "metadata": {
  "kernelspec": {
   "display_name": "Python 3.9.13 ('base')",
   "language": "python",
   "name": "python3"
  },
  "language_info": {
   "codemirror_mode": {
    "name": "ipython",
    "version": 3
   },
   "file_extension": ".py",
   "mimetype": "text/x-python",
   "name": "python",
   "nbconvert_exporter": "python",
   "pygments_lexer": "ipython3",
   "version": "3.9.13"
  },
  "orig_nbformat": 4,
  "vscode": {
   "interpreter": {
    "hash": "203ec5af3e26acf3e3c83a4183d4b4efe59642f60e2721ccf6236536a59ece46"
   }
  }
 },
 "nbformat": 4,
 "nbformat_minor": 2
}
