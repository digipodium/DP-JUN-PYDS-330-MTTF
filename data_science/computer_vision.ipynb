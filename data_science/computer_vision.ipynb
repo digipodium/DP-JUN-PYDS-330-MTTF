{
 "cells": [
  {
   "cell_type": "markdown",
   "metadata": {},
   "source": [
    "Computer Vision\n",
    "\n",
    "```shell\n",
    "pip install opencv-contrib-python\n",
    "pip install mediapipe\n",
    "```"
   ]
  },
  {
   "cell_type": "code",
   "execution_count": 1,
   "metadata": {},
   "outputs": [],
   "source": [
    "import cv2 "
   ]
  },
  {
   "cell_type": "markdown",
   "metadata": {},
   "source": [
    "video processing"
   ]
  },
  {
   "cell_type": "code",
   "execution_count": 3,
   "metadata": {},
   "outputs": [],
   "source": [
    "video = cv2.VideoCapture('sample.mp4')\n",
    "while True:\n",
    "    state, frame = video.read()\n",
    "    if not state:\n",
    "        break\n",
    "    cv2.imshow('video output', frame)\n",
    "    if cv2.waitKey(1) == 27: # esc button ka numerical value \n",
    "        break\n",
    "video.release()\n",
    "cv2.destroyAllWindows()"
   ]
  },
  {
   "cell_type": "code",
   "execution_count": 5,
   "metadata": {},
   "outputs": [],
   "source": [
    "def webcam(webcam_idx = 0):\n",
    "    video = cv2.VideoCapture(webcam_idx)\n",
    "    while True:\n",
    "        state, frame = video.read()\n",
    "        if not state:\n",
    "            break\n",
    "        cv2.imshow('video output', frame)\n",
    "        if cv2.waitKey(1) == 27: # esc button ka numerical value \n",
    "            break\n",
    "    video.release()\n",
    "    cv2.destroyAllWindows()"
   ]
  },
  {
   "cell_type": "code",
   "execution_count": 7,
   "metadata": {},
   "outputs": [],
   "source": [
    "webcam()"
   ]
  },
  {
   "cell_type": "code",
   "execution_count": 8,
   "metadata": {},
   "outputs": [],
   "source": [
    "def recorder(webcam_idx=0, recording_file = 'recording.avi'):\n",
    "    video = cv2.VideoCapture(webcam_idx)\n",
    "    fourcc = cv2.VideoWriter_fourcc(*'XVID')\n",
    "    out = cv2.VideoWriter(recording_file, fourcc, 20.0, (640,  480))\n",
    "    while True:\n",
    "        state, frame = video.read()\n",
    "        if not state: break\n",
    "        cv2.imshow('video camera',frame)\n",
    "        out.write(frame)\n",
    "        if cv2.waitKey(1) == 27:\n",
    "            break\n",
    "    out.release() # save file\n",
    "    video.release()\n",
    "    cv2.destroyAllWindows()"
   ]
  },
  {
   "cell_type": "code",
   "execution_count": 9,
   "metadata": {},
   "outputs": [],
   "source": [
    "recorder(recording_file='example_webcam.avi')"
   ]
  },
  {
   "cell_type": "code",
   "execution_count": 21,
   "metadata": {},
   "outputs": [],
   "source": [
    "def webcam_w_info(webcam_idx = 0):\n",
    "    video = cv2.VideoCapture(webcam_idx)\n",
    "    while True:\n",
    "        state, frame = video.read()\n",
    "        if not state:\n",
    "            break\n",
    "        cv2.rectangle(frame, (0,0), (640,50), (255,255,255), -1)\n",
    "        cv2.putText(frame,\"webcam output from laptop\",(100,30),cv2.FONT_HERSHEY_SIMPLEX,1,(0,0,0))\n",
    "        cv2.putText(frame,'camera 0', (10,450), cv2.FONT_HERSHEY_SIMPLEX, .5, (0,255,255))\n",
    "        cv2.imshow('video output', frame)\n",
    "        if cv2.waitKey(1) == 27: # esc button ka numerical value \n",
    "            break\n",
    "    video.release()\n",
    "    cv2.destroyAllWindows()\n",
    "\n",
    "# calling\n",
    "webcam_w_info()"
   ]
  },
  {
   "cell_type": "code",
   "execution_count": 3,
   "metadata": {},
   "outputs": [],
   "source": [
    "import mediapipe as mp"
   ]
  },
  {
   "cell_type": "code",
   "execution_count": 5,
   "metadata": {},
   "outputs": [],
   "source": [
    "def face_detection(webcam_idx=0):\n",
    "    mp_face_detection = mp.solutions.face_detection\n",
    "    mp_drawing = mp.solutions.drawing_utils\n",
    "    cap = cv2.VideoCapture(webcam_idx)\n",
    "    with mp_face_detection.FaceDetection(model_selection=0, min_detection_confidence=0.7) as face_detection:\n",
    "        while cap.isOpened():\n",
    "            success, image = cap.read()\n",
    "            if not success:\n",
    "                print(\"Ignoring empty camera frame.\")\n",
    "                continue\n",
    "            image.flags.writeable = False\n",
    "            image = cv2.cvtColor(image, cv2.COLOR_BGR2RGB)\n",
    "            results = face_detection.process(image)\n",
    "            image.flags.writeable = True\n",
    "            image = cv2.cvtColor(image, cv2.COLOR_RGB2BGR)\n",
    "            if results.detections:\n",
    "                for detection in results.detections:\n",
    "                    mp_drawing.draw_detection(image, detection)\n",
    "            cv2.imshow('MediaPipe Face Detection', cv2.flip(image, 1))\n",
    "            if cv2.waitKey(1) == 27:\n",
    "                break\n",
    "    cap.release()\n",
    "    cv2.destroyAllWindows()\n",
    "\n",
    "# calling the fun\n",
    "face_detection()"
   ]
  },
  {
   "cell_type": "code",
   "execution_count": null,
   "metadata": {},
   "outputs": [],
   "source": []
  }
 ],
 "metadata": {
  "kernelspec": {
   "display_name": "Python 3.9.13 ('base')",
   "language": "python",
   "name": "python3"
  },
  "language_info": {
   "codemirror_mode": {
    "name": "ipython",
    "version": 3
   },
   "file_extension": ".py",
   "mimetype": "text/x-python",
   "name": "python",
   "nbconvert_exporter": "python",
   "pygments_lexer": "ipython3",
   "version": "3.9.13"
  },
  "orig_nbformat": 4,
  "vscode": {
   "interpreter": {
    "hash": "203ec5af3e26acf3e3c83a4183d4b4efe59642f60e2721ccf6236536a59ece46"
   }
  }
 },
 "nbformat": 4,
 "nbformat_minor": 2
}
