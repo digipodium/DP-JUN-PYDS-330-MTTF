{
 "cells": [
  {
   "cell_type": "code",
   "execution_count": 1,
   "metadata": {},
   "outputs": [
    {
     "name": "stdout",
     "output_type": "stream",
     "text": [
      "{1, 2, 3, 23, 41, 123, 31}\n"
     ]
    }
   ],
   "source": [
    "x = {1,2,3,41,23,123,123,1,31,23}\n",
    "print(x)"
   ]
  },
  {
   "cell_type": "code",
   "execution_count": 2,
   "metadata": {},
   "outputs": [
    {
     "name": "stdout",
     "output_type": "stream",
     "text": [
      "{1, 2, 3, 23, 41, 123, 31} {1, 1860867, 12167, 8, 68921, 27, 29791}\n"
     ]
    }
   ],
   "source": [
    "x3 = {i ** 3 for i in x}\n",
    "print(x,x3)"
   ]
  },
  {
   "cell_type": "code",
   "execution_count": 4,
   "metadata": {},
   "outputs": [],
   "source": [
    "rainfall = {\n",
    "    '2001':350,\n",
    "    '2002':420,\n",
    "    '2003':510,\n",
    "    '2004':600,\n",
    "    '2005':700,\n",
    "}"
   ]
  },
  {
   "cell_type": "code",
   "execution_count": 11,
   "metadata": {},
   "outputs": [],
   "source": [
    "rainfall_norm = {i[0]:i[1]/700 for i in rainfall.items()}\n"
   ]
  },
  {
   "cell_type": "code",
   "execution_count": 12,
   "metadata": {},
   "outputs": [
    {
     "data": {
      "text/plain": [
       "{'2001': 0.5,\n",
       " '2002': 0.6,\n",
       " '2003': 0.7285714285714285,\n",
       " '2004': 0.8571428571428571,\n",
       " '2005': 1.0}"
      ]
     },
     "execution_count": 12,
     "metadata": {},
     "output_type": "execute_result"
    }
   ],
   "source": [
    "rainfall_norm"
   ]
  },
  {
   "cell_type": "markdown",
   "metadata": {},
   "source": [
    "**wap to create a program that takes a list of numbers and then generate a list of all even nums and odd nums seperated using comprehension**\n"
   ]
  },
  {
   "cell_type": "code",
   "execution_count": 3,
   "metadata": {},
   "outputs": [
    {
     "name": "stdout",
     "output_type": "stream",
     "text": [
      "Jason Bourne\n"
     ]
    }
   ],
   "source": [
    "name = \"Jason Bourne\"\n",
    "fname = name.split()[0]\n",
    "lname = name.split()[-1]\n",
    "print(fname,lname)\n"
   ]
  },
  {
   "cell_type": "code",
   "execution_count": 8,
   "metadata": {},
   "outputs": [
    {
     "name": "stdout",
     "output_type": "stream",
     "text": [
      "['MM', 'JD', 'JB', 'JV']\n"
     ]
    }
   ],
   "source": [
    "contacts = ['Mason Mamoa','Jason Derulo','Jason Bourne','Jason Voorhees']\n",
    "sn = [f\"{name.split()[0][0]}{name.split()[-1][0]}\" for name in contacts]\n",
    "print(sn)"
   ]
  },
  {
   "cell_type": "code",
   "execution_count": null,
   "metadata": {},
   "outputs": [],
   "source": []
  }
 ],
 "metadata": {
  "kernelspec": {
   "display_name": "Python 3.9.13 ('base')",
   "language": "python",
   "name": "python3"
  },
  "language_info": {
   "codemirror_mode": {
    "name": "ipython",
    "version": 3
   },
   "file_extension": ".py",
   "mimetype": "text/x-python",
   "name": "python",
   "nbconvert_exporter": "python",
   "pygments_lexer": "ipython3",
   "version": "3.9.13"
  },
  "orig_nbformat": 4,
  "vscode": {
   "interpreter": {
    "hash": "203ec5af3e26acf3e3c83a4183d4b4efe59642f60e2721ccf6236536a59ece46"
   }
  }
 },
 "nbformat": 4,
 "nbformat_minor": 2
}
