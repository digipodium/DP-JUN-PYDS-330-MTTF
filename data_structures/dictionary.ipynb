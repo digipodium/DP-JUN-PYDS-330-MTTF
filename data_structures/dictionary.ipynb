{
 "cells": [
  {
   "cell_type": "markdown",
   "metadata": {},
   "source": [
    "why do we need dict?"
   ]
  },
  {
   "cell_type": "code",
   "execution_count": 1,
   "metadata": {},
   "outputs": [],
   "source": [
    "marks_list = ['Alan',30,'Brian',50,'Charles',60,'David',70,'Eric',80,'Frank',90] # very stupid list\n",
    "\n",
    "mark_list_v2 = [['Alan',30],['Brian',50],['Charles',60],['David',70],['Eric',80],['Frank',90]] \n",
    "\n",
    "mark_list_v3 = [['Alan',32,45,67,78,89,45],['Brian',23,12,34]]"
   ]
  },
  {
   "cell_type": "markdown",
   "metadata": {},
   "source": [
    "list are inefficent for searching and storing meaning full data\n",
    "\n",
    "### dictionary is a collection of key value pairs"
   ]
  },
  {
   "cell_type": "code",
   "execution_count": 2,
   "metadata": {},
   "outputs": [
    {
     "name": "stdout",
     "output_type": "stream",
     "text": [
      "{'Alan': 30, 'Brian': 50, 'Charles': 60, 'David': 70, 'Eric': 80, 'Frank': 90}\n"
     ]
    }
   ],
   "source": [
    "marks_dict = {'Alan' : 30, 'Brian' : 50, 'Charles' : 60, 'David' : 70, 'Eric' : 80, 'Frank' : 90}\n",
    "print(marks_dict)"
   ]
  },
  {
   "cell_type": "code",
   "execution_count": 3,
   "metadata": {},
   "outputs": [
    {
     "name": "stdout",
     "output_type": "stream",
     "text": [
      "Charles got 60\n",
      "we are adding grace marks for Alan\n",
      "new marks for Alan is  45\n"
     ]
    }
   ],
   "source": [
    "print(\"Charles got\",marks_dict['Charles']) # get value of Charles\n",
    "print(\"we are adding grace marks for Alan\")\n",
    "marks_dict['Alan'] = 45\n",
    "print('new marks for Alan is ', marks_dict['Alan'])"
   ]
  },
  {
   "cell_type": "code",
   "execution_count": 4,
   "metadata": {},
   "outputs": [],
   "source": [
    "marks_dict_v2 = {\n",
    "    'student 1': {\n",
    "        'name': 'Alan',\n",
    "        'cgpa' : 8.3\n",
    "    },\n",
    "    'student 2': {\n",
    "        'name': 'Brian',\n",
    "        'cgpa' : 7.5\n",
    "    },\n",
    "    'student 3': {\n",
    "        'name': 'Charles',\n",
    "        'cgpa' : 9.0\n",
    "    }\n",
    "}"
   ]
  },
  {
   "cell_type": "code",
   "execution_count": 5,
   "metadata": {},
   "outputs": [
    {
     "name": "stdout",
     "output_type": "stream",
     "text": [
      "{'name': 'Alan', 'cgpa': 8.3}\n"
     ]
    }
   ],
   "source": [
    "print(marks_dict_v2['student 1'])"
   ]
  },
  {
   "cell_type": "code",
   "execution_count": 6,
   "metadata": {},
   "outputs": [
    {
     "name": "stdout",
     "output_type": "stream",
     "text": [
      "Alan\n"
     ]
    }
   ],
   "source": [
    "print(marks_dict_v2['student 1']['name'])"
   ]
  },
  {
   "cell_type": "code",
   "execution_count": 7,
   "metadata": {},
   "outputs": [
    {
     "name": "stdout",
     "output_type": "stream",
     "text": [
      "8.3\n"
     ]
    }
   ],
   "source": [
    "print(marks_dict_v2['student 1']['cgpa'])"
   ]
  },
  {
   "cell_type": "code",
   "execution_count": 8,
   "metadata": {},
   "outputs": [],
   "source": [
    "# create a dictionary to story movie name, year, rating and overview\n",
    "movies = {\n",
    "    'Inception': {\n",
    "        'year': 2010,\n",
    "        'rating': 8.8,\n",
    "        'overview': 'A thief, who steals corporate secrets through use of dream-sharing technology.'\n",
    "    },\n",
    "    'The Dark Knight': {\n",
    "        'year': 2008,\n",
    "        'rating': 9.0,\n",
    "        'overview': 'Batman vs Joker.'\n",
    "    },\n",
    "    'Interstellar': {\n",
    "        'year': 2014,\n",
    "        'rating': 8.6,\n",
    "        'overview':'its complicated'\n",
    "    }\n",
    "}"
   ]
  },
  {
   "cell_type": "code",
   "execution_count": 9,
   "metadata": {},
   "outputs": [
    {
     "data": {
      "text/plain": [
       "9.0"
      ]
     },
     "execution_count": 9,
     "metadata": {},
     "output_type": "execute_result"
    }
   ],
   "source": [
    "movies.get('The Dark Knight').get('rating')"
   ]
  },
  {
   "cell_type": "code",
   "execution_count": 10,
   "metadata": {},
   "outputs": [
    {
     "name": "stdout",
     "output_type": "stream",
     "text": [
      "{'Inception': {'year': 2010, 'rating': 8.9, 'overview': 'A thief, who steals corporate secrets through use of dream-sharing technology.'}, 'The Dark Knight': {'year': 2008, 'rating': 9.0, 'overview': 'Batman vs Joker.'}, 'Interstellar': {'year': 2014, 'rating': 8.6, 'overview': 'its complicated'}}\n"
     ]
    }
   ],
   "source": [
    "movies['Inception']['rating'] = 8.9\n",
    "print(movies)"
   ]
  },
  {
   "cell_type": "code",
   "execution_count": 11,
   "metadata": {},
   "outputs": [
    {
     "name": "stdout",
     "output_type": "stream",
     "text": [
      "{'Inception': {'year': 2010, 'rating': 8.9, 'overview': 'A thief, who steals corporate secrets through use of dream-sharing technology.', 'studio': 'Warner Bros'}, 'The Dark Knight': {'year': 2008, 'rating': 9.0, 'overview': 'Batman vs Joker.'}, 'Interstellar': {'year': 2014, 'rating': 8.6, 'overview': 'its complicated'}}\n"
     ]
    }
   ],
   "source": [
    "movies['Inception']['studio']='Warner Bros'\n",
    "print(movies)"
   ]
  },
  {
   "cell_type": "code",
   "execution_count": 12,
   "metadata": {},
   "outputs": [
    {
     "name": "stdout",
     "output_type": "stream",
     "text": [
      "Inception\n",
      "----------\n",
      "year => 2010\n",
      "rating => 8.9\n",
      "overview => A thief, who steals corporate secrets through use of dream-sharing technology.\n",
      "studio => Warner Bros\n",
      "The Dark Knight\n",
      "----------\n",
      "year => 2008\n",
      "rating => 9.0\n",
      "overview => Batman vs Joker.\n",
      "Interstellar\n",
      "----------\n",
      "year => 2014\n",
      "rating => 8.6\n",
      "overview => its complicated\n"
     ]
    }
   ],
   "source": [
    "for name,detail in movies.items():\n",
    "    print(name)\n",
    "    print('----------')\n",
    "    for k,v in detail.items():\n",
    "        print(k,'=>',v)\n"
   ]
  },
  {
   "cell_type": "markdown",
   "metadata": {},
   "source": [
    "**functions**"
   ]
  },
  {
   "cell_type": "code",
   "execution_count": 14,
   "metadata": {},
   "outputs": [
    {
     "name": "stdout",
     "output_type": "stream",
     "text": [
      "dict_keys(['Alan', 'Brian', 'Charles', 'David', 'Eric', 'Frank'])\n"
     ]
    }
   ],
   "source": [
    "print(marks_dict.keys())"
   ]
  },
  {
   "cell_type": "code",
   "execution_count": 15,
   "metadata": {},
   "outputs": [
    {
     "name": "stdout",
     "output_type": "stream",
     "text": [
      "dict_values([45, 50, 60, 70, 80, 90])\n"
     ]
    }
   ],
   "source": [
    "print(marks_dict.values())"
   ]
  },
  {
   "cell_type": "code",
   "execution_count": 16,
   "metadata": {},
   "outputs": [
    {
     "name": "stdout",
     "output_type": "stream",
     "text": [
      "dict_items([('Alan', 45), ('Brian', 50), ('Charles', 60), ('David', 70), ('Eric', 80), ('Frank', 90)])\n"
     ]
    }
   ],
   "source": [
    "print(marks_dict.items())"
   ]
  },
  {
   "cell_type": "code",
   "execution_count": 17,
   "metadata": {},
   "outputs": [],
   "source": [
    "# we dont have any method to add item to dictionary, instead we  use this\n",
    "marks_dict['Eliza'] = 90"
   ]
  },
  {
   "cell_type": "code",
   "execution_count": 18,
   "metadata": {},
   "outputs": [],
   "source": [
    "marks_dict.update({'Grace':39,'Erica':99,'Alex':100})"
   ]
  },
  {
   "cell_type": "code",
   "execution_count": 19,
   "metadata": {},
   "outputs": [
    {
     "name": "stdout",
     "output_type": "stream",
     "text": [
      "{'Alan': 45, 'Brian': 50, 'Charles': 60, 'David': 70, 'Eric': 80, 'Frank': 90, 'Eliza': 90, 'Grace': 39, 'Erica': 99, 'Alex': 100}\n"
     ]
    }
   ],
   "source": [
    "print(marks_dict)"
   ]
  },
  {
   "cell_type": "code",
   "execution_count": 21,
   "metadata": {},
   "outputs": [
    {
     "name": "stdout",
     "output_type": "stream",
     "text": [
      "{'Alan': 45, 'Brian': 50, 'Charles': 60, 'David': 70, 'Eric': 80, 'Frank': 90, 'Eliza': 90, 'Erica': 99, 'Alex': 100}\n"
     ]
    }
   ],
   "source": [
    "marks_dict.pop('Grace')\n",
    "print(marks_dict)"
   ]
  },
  {
   "cell_type": "code",
   "execution_count": 22,
   "metadata": {},
   "outputs": [
    {
     "name": "stdout",
     "output_type": "stream",
     "text": [
      "{'Alan': 45, 'Brian': 50, 'Charles': 60, 'David': 70, 'Eric': 80, 'Frank': 90, 'Erica': 99, 'Alex': 100}\n",
      "90\n"
     ]
    }
   ],
   "source": [
    "item_dat_was_removed = marks_dict.pop('Eliza')\n",
    "print(marks_dict)\n",
    "print(item_dat_was_removed)"
   ]
  },
  {
   "cell_type": "code",
   "execution_count": 25,
   "metadata": {},
   "outputs": [
    {
     "data": {
      "text/plain": [
       "45"
      ]
     },
     "execution_count": 25,
     "metadata": {},
     "output_type": "execute_result"
    }
   ],
   "source": [
    "marks_dict.get('Alan') # no error, it will return None"
   ]
  },
  {
   "cell_type": "code",
   "execution_count": 27,
   "metadata": {},
   "outputs": [
    {
     "data": {
      "text/plain": [
       "100"
      ]
     },
     "execution_count": 27,
     "metadata": {},
     "output_type": "execute_result"
    }
   ],
   "source": [
    "marks_dict.get('Alex','n/a')"
   ]
  },
  {
   "cell_type": "code",
   "execution_count": 28,
   "metadata": {},
   "outputs": [
    {
     "data": {
      "text/plain": [
       "'n/a'"
      ]
     },
     "execution_count": 28,
     "metadata": {},
     "output_type": "execute_result"
    }
   ],
   "source": [
    "marks_dict.get('Fred','n/a')"
   ]
  }
 ],
 "metadata": {
  "kernelspec": {
   "display_name": "Python 3.9.13 ('base')",
   "language": "python",
   "name": "python3"
  },
  "language_info": {
   "codemirror_mode": {
    "name": "ipython",
    "version": 3
   },
   "file_extension": ".py",
   "mimetype": "text/x-python",
   "name": "python",
   "nbconvert_exporter": "python",
   "pygments_lexer": "ipython3",
   "version": "3.9.13"
  },
  "orig_nbformat": 4,
  "vscode": {
   "interpreter": {
    "hash": "203ec5af3e26acf3e3c83a4183d4b4efe59642f60e2721ccf6236536a59ece46"
   }
  }
 },
 "nbformat": 4,
 "nbformat_minor": 2
}
